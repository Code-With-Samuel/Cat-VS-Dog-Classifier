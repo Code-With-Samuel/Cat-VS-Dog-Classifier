{
  "cells": [
    {
      "cell_type": "code",
      "source": [
        "# Basic imports\n",
        "import os\n",
        "import torch\n",
        "import torchvision\n",
        "import torchvision.transforms as transforms\n",
        "from torchvision.datasets import ImageFolder\n",
        "from torchvision import models\n",
        "from torch.utils.data import DataLoader, random_split\n",
        "import torch.nn as nn\n",
        "import torch.optim as optim\n",
        "from torchvision.utils import make_grid\n",
        "import matplotlib.pyplot as plt\n",
        "import numpy as np\n"
      ],
      "metadata": {
        "id": "OYHU-1bK8hNk"
      },
      "id": "OYHU-1bK8hNk",
      "execution_count": 1,
      "outputs": []
    },
    {
      "cell_type": "code",
      "source": [
        "from google.colab import drive\n",
        "drive.mount('/content/drive')\n"
      ],
      "metadata": {
        "colab": {
          "base_uri": "https://localhost:8080/"
        },
        "id": "b5eQ2Nm28lQe",
        "outputId": "556295c1-4cc2-431b-ca27-1fc8f672eed6"
      },
      "id": "b5eQ2Nm28lQe",
      "execution_count": 2,
      "outputs": [
        {
          "output_type": "stream",
          "name": "stdout",
          "text": [
            "Mounted at /content/drive\n"
          ]
        }
      ]
    },
    {
      "cell_type": "code",
      "source": [
        "data_dir = '/content/drive/MyDrive/cat_dog_data'\n"
      ],
      "metadata": {
        "id": "2jJgJTzI8moU"
      },
      "id": "2jJgJTzI8moU",
      "execution_count": 3,
      "outputs": []
    },
    {
      "cell_type": "code",
      "source": [
        "transform = transforms.Compose([\n",
        "    transforms.Resize((224, 224)),   # Resize images to 224x224\n",
        "    transforms.ToTensor(),           # Convert image to tensor\n",
        "    transforms.Normalize([0.5], [0.5])  # Normalize\n",
        "])\n"
      ],
      "metadata": {
        "id": "nt3XWrnO8o8Y"
      },
      "id": "nt3XWrnO8o8Y",
      "execution_count": 4,
      "outputs": []
    },
    {
      "cell_type": "code",
      "source": [
        "full_dataset = ImageFolder(data_dir, transform=transform)\n",
        "print(\"Classes:\", full_dataset.classes)\n",
        "print(\"Total images:\", len(full_dataset))\n"
      ],
      "metadata": {
        "colab": {
          "base_uri": "https://localhost:8080/"
        },
        "id": "Iz3Yf1Cc8sVu",
        "outputId": "7b9c2f03-14ed-4d07-9a07-686a35248d6a"
      },
      "id": "Iz3Yf1Cc8sVu",
      "execution_count": 5,
      "outputs": [
        {
          "output_type": "stream",
          "name": "stdout",
          "text": [
            "Classes: ['PetImages']\n",
            "Total images: 24998\n"
          ]
        }
      ]
    },
    {
      "cell_type": "code",
      "source": [
        "train_size = int(0.8 * len(full_dataset))\n",
        "val_size = len(full_dataset) - train_size\n",
        "train_ds, val_ds = random_split(full_dataset, [train_size, val_size])\n",
        "\n",
        "train_loader = DataLoader(train_ds, batch_size=32, shuffle=True)\n",
        "val_loader = DataLoader(val_ds, batch_size=32)\n"
      ],
      "metadata": {
        "id": "La9p7YfT8wWt"
      },
      "id": "La9p7YfT8wWt",
      "execution_count": 6,
      "outputs": []
    },
    {
      "cell_type": "code",
      "source": [
        "resnet18 = models.resnet18(pretrained=True)\n",
        "for param in resnet18.parameters():\n",
        "    param.requires_grad = False  # Freeze all layers\n",
        "\n",
        "resnet18.fc = nn.Linear(resnet18.fc.in_features, 1)  # 1 output for binary classification\n"
      ],
      "metadata": {
        "colab": {
          "base_uri": "https://localhost:8080/"
        },
        "id": "ckjSCL8J8_f2",
        "outputId": "dc9d9097-e74a-4694-965b-68f2882d9c39"
      },
      "id": "ckjSCL8J8_f2",
      "execution_count": 7,
      "outputs": [
        {
          "output_type": "stream",
          "name": "stderr",
          "text": [
            "/usr/local/lib/python3.11/dist-packages/torchvision/models/_utils.py:208: UserWarning: The parameter 'pretrained' is deprecated since 0.13 and may be removed in the future, please use 'weights' instead.\n",
            "  warnings.warn(\n",
            "/usr/local/lib/python3.11/dist-packages/torchvision/models/_utils.py:223: UserWarning: Arguments other than a weight enum or `None` for 'weights' are deprecated since 0.13 and may be removed in the future. The current behavior is equivalent to passing `weights=ResNet18_Weights.IMAGENET1K_V1`. You can also use `weights=ResNet18_Weights.DEFAULT` to get the most up-to-date weights.\n",
            "  warnings.warn(msg)\n",
            "Downloading: \"https://download.pytorch.org/models/resnet18-f37072fd.pth\" to /root/.cache/torch/hub/checkpoints/resnet18-f37072fd.pth\n",
            "100%|██████████| 44.7M/44.7M [00:00<00:00, 52.5MB/s]\n"
          ]
        }
      ]
    },
    {
      "cell_type": "code",
      "source": [
        "criterion = nn.BCEWithLogitsLoss()  # Best for binary classification\n",
        "optimizer = optim.Adam(resnet18.fc.parameters(), lr=0.001)\n"
      ],
      "metadata": {
        "id": "g4ji9gdh9BLI"
      },
      "id": "g4ji9gdh9BLI",
      "execution_count": 8,
      "outputs": []
    },
    {
      "cell_type": "code",
      "source": [
        "device = torch.device('cuda' if torch.cuda.is_available() else 'cpu')\n",
        "print(\"✅ Using device:\", device)\n",
        "\n",
        "# Move model to the device (GPU if available)\n",
        "resnet18 = resnet18.to(device)\n"
      ],
      "metadata": {
        "id": "EhWZTCvU9D18",
        "colab": {
          "base_uri": "https://localhost:8080/"
        },
        "outputId": "00c036aa-854f-4786-8f8f-28a3a569a4ea"
      },
      "id": "EhWZTCvU9D18",
      "execution_count": 9,
      "outputs": [
        {
          "output_type": "stream",
          "name": "stdout",
          "text": [
            "✅ Using device: cpu\n"
          ]
        }
      ]
    },
    {
      "cell_type": "code",
      "source": [
        "from tqdm import tqdm  # Just once at the top of your notebook\n",
        "\n",
        "for epoch in range(3):  # Train for 3 epochs\n",
        "    resnet18.train()\n",
        "    running_loss = 0.0\n",
        "\n",
        "    # Add tqdm progress bar around the DataLoader\n",
        "    loop = tqdm(train_loader, total=len(train_loader), desc=f\"Epoch {epoch+1}\")\n",
        "\n",
        "    for images, labels in loop:\n",
        "        images, labels = images.to(device), labels.to(device).float().unsqueeze(1)\n",
        "\n",
        "        optimizer.zero_grad()\n",
        "        outputs = resnet18(images)\n",
        "        loss = criterion(outputs, labels)\n",
        "        loss.backward()\n",
        "        optimizer.step()\n",
        "\n",
        "        running_loss += loss.item()\n",
        "\n",
        "        # Show current loss on progress bar\n",
        "        loop.set_postfix(loss=loss.item())\n",
        "\n",
        "    print(f\"✅ Epoch {epoch+1} finished — Avg Loss: {running_loss/len(train_loader):.4f}\")\n"
      ],
      "metadata": {
        "colab": {
          "base_uri": "https://localhost:8080/"
        },
        "id": "8mQOT1bv9iCv",
        "outputId": "630d8944-5972-4579-f982-46bbe1e9ac2c"
      },
      "id": "8mQOT1bv9iCv",
      "execution_count": null,
      "outputs": [
        {
          "output_type": "stream",
          "name": "stderr",
          "text": [
            "Epoch 1:  94%|█████████▍| 586/625 [40:03<02:29,  3.83s/it, loss=7.59e-5]/usr/local/lib/python3.11/dist-packages/PIL/TiffImagePlugin.py:950: UserWarning: Truncated File Read\n",
            "  warnings.warn(str(msg))\n",
            "Epoch 1: 100%|██████████| 625/625 [42:51<00:00,  4.11s/it, loss=0.000427]\n"
          ]
        },
        {
          "output_type": "stream",
          "name": "stdout",
          "text": [
            "✅ Epoch 1 finished — Avg Loss: 0.0002\n"
          ]
        },
        {
          "output_type": "stream",
          "name": "stderr",
          "text": [
            "Epoch 2: 100%|██████████| 625/625 [02:27<00:00,  4.25it/s, loss=3.1e-5]\n"
          ]
        },
        {
          "output_type": "stream",
          "name": "stdout",
          "text": [
            "✅ Epoch 2 finished — Avg Loss: 0.0001\n"
          ]
        },
        {
          "output_type": "stream",
          "name": "stderr",
          "text": [
            "Epoch 3: 100%|██████████| 625/625 [02:28<00:00,  4.20it/s, loss=1.98e-5]"
          ]
        },
        {
          "output_type": "stream",
          "name": "stdout",
          "text": [
            "✅ Epoch 3 finished — Avg Loss: 0.0000\n"
          ]
        },
        {
          "output_type": "stream",
          "name": "stderr",
          "text": [
            "\n"
          ]
        }
      ]
    },
    {
      "cell_type": "code",
      "source": [
        "model_path = '/content/drive/MyDrive/cat_vs_dog_resnet18.pth'\n",
        "torch.save(resnet18.state_dict(), model_path)\n",
        "print(f\"Model saved to {model_path}\")\n"
      ],
      "metadata": {
        "id": "Xy8cYics92JQ",
        "colab": {
          "base_uri": "https://localhost:8080/"
        },
        "outputId": "98d6ab32-1b5c-4670-d1d2-6c5081a0d8f4"
      },
      "id": "Xy8cYics92JQ",
      "execution_count": null,
      "outputs": [
        {
          "output_type": "stream",
          "name": "stdout",
          "text": [
            "Model saved to /content/drive/MyDrive/cat_vs_dog_resnet18.pth\n"
          ]
        }
      ]
    },
    {
      "cell_type": "code",
      "source": [],
      "metadata": {
        "id": "tUa5VdgmW2OM"
      },
      "id": "tUa5VdgmW2OM",
      "execution_count": null,
      "outputs": []
    },
    {
      "cell_type": "code",
      "source": [],
      "metadata": {
        "id": "uKmmUxyJW2Kp"
      },
      "id": "uKmmUxyJW2Kp",
      "execution_count": null,
      "outputs": []
    },
    {
      "cell_type": "code",
      "source": [],
      "metadata": {
        "id": "CEVDpTj-Ug4g"
      },
      "id": "CEVDpTj-Ug4g",
      "execution_count": null,
      "outputs": []
    },
    {
      "cell_type": "code",
      "source": [
        "!git --version"
      ],
      "metadata": {
        "id": "WLxKpZtsVRa_",
        "colab": {
          "base_uri": "https://localhost:8080/"
        },
        "outputId": "5433fc1a-9802-43f4-df2e-a957525c42c2"
      },
      "id": "WLxKpZtsVRa_",
      "execution_count": 10,
      "outputs": [
        {
          "output_type": "stream",
          "name": "stdout",
          "text": [
            "git version 2.34.1\n"
          ]
        }
      ]
    },
    {
      "cell_type": "code",
      "source": [
        "!git config --global user.name \"Code-With-Samuel\"\n",
        "!git config --global user.email \"itsmesamuelgonzalez@gmail.com\""
      ],
      "metadata": {
        "id": "Z57wNk0UV2ZR"
      },
      "id": "Z57wNk0UV2ZR",
      "execution_count": 11,
      "outputs": []
    },
    {
      "cell_type": "code",
      "source": [
        "!git clone https://github.com/Code-With-Samuel/Cat-VS-Dog-Classifier.git\n"
      ],
      "metadata": {
        "colab": {
          "base_uri": "https://localhost:8080/"
        },
        "id": "dDAr_PfhWgQF",
        "outputId": "c4b621a3-e80f-440a-fcb3-9326b89848d2"
      },
      "id": "dDAr_PfhWgQF",
      "execution_count": 12,
      "outputs": [
        {
          "output_type": "stream",
          "name": "stdout",
          "text": [
            "Cloning into 'Cat-VS-Dog-Classifier'...\n",
            "remote: Enumerating objects: 35, done.\u001b[K\n",
            "remote: Counting objects: 100% (35/35), done.\u001b[K\n",
            "remote: Compressing objects: 100% (25/25), done.\u001b[K\n",
            "remote: Total 35 (delta 7), reused 16 (delta 1), pack-reused 0 (from 0)\u001b[K\n",
            "Receiving objects: 100% (35/35), 9.82 KiB | 9.82 MiB/s, done.\n",
            "Resolving deltas: 100% (7/7), done.\n"
          ]
        }
      ]
    },
    {
      "cell_type": "code",
      "source": [
        "!cp /content/catdog_classifier.ipynb /content/Cat-VS-Dog-Classifier/\n"
      ],
      "metadata": {
        "colab": {
          "base_uri": "https://localhost:8080/"
        },
        "id": "2WTol_pEXRuy",
        "outputId": "d41736c9-f71b-4082-9243-5cc6bbd123e7"
      },
      "id": "2WTol_pEXRuy",
      "execution_count": 13,
      "outputs": [
        {
          "output_type": "stream",
          "name": "stdout",
          "text": [
            "cp: cannot stat '/content/catdog_classifier.ipynb': No such file or directory\n"
          ]
        }
      ]
    },
    {
      "cell_type": "code",
      "source": [
        "import os\n",
        "print(os.listdir('/content'))\n"
      ],
      "metadata": {
        "colab": {
          "base_uri": "https://localhost:8080/"
        },
        "id": "NwiR69HGXmV_",
        "outputId": "7b66b70e-a8b7-400b-a3ad-38a0e508c859"
      },
      "id": "NwiR69HGXmV_",
      "execution_count": 14,
      "outputs": [
        {
          "output_type": "stream",
          "name": "stdout",
          "text": [
            "['.config', 'Cat-VS-Dog-Classifier', 'drive', 'sample_data']\n"
          ]
        }
      ]
    },
    {
      "cell_type": "code",
      "source": [],
      "metadata": {
        "id": "RYV6SR-bYCb7"
      },
      "id": "RYV6SR-bYCb7",
      "execution_count": null,
      "outputs": []
    }
  ],
  "metadata": {
    "language_info": {
      "name": "python"
    },
    "colab": {
      "provenance": [],
      "gpuType": "T4"
    },
    "kernelspec": {
      "name": "python3",
      "display_name": "Python 3"
    },
    "accelerator": "GPU"
  },
  "nbformat": 4,
  "nbformat_minor": 5
}